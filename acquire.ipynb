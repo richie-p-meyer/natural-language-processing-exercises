{
 "cells": [
  {
   "cell_type": "code",
   "execution_count": 117,
   "id": "9151a985",
   "metadata": {},
   "outputs": [],
   "source": [
    "import pandas as pd\n",
    "import numpy as np\n",
    "\n",
    "import requests\n",
    "from bs4 import BeautifulSoup\n",
    "\n",
    "import os\n",
    "import json"
   ]
  },
  {
   "cell_type": "code",
   "execution_count": 25,
   "id": "49b2e1a9",
   "metadata": {},
   "outputs": [],
   "source": [
    "urls = ['https://codeup.com/tips-for-prospective-students/coding-bootcamp-or-self-learning/',  \n",
    "'https://codeup.com/data-science/become-a-data-scientist/',  \n",
    "'https://codeup.com/employers/hiring-tech-talent/',  \n",
    "'https://codeup.com/cloud-administration/cap-funding-options/',  \n",
    "'https://codeup.com/dallas-info/it-professionals-dallas/']  \n",
    "\n",
    "headers = {'User-Agent': 'Codeup Data Science'} "
   ]
  },
  {
   "cell_type": "code",
   "execution_count": 32,
   "id": "8cea55d7",
   "metadata": {},
   "outputs": [],
   "source": [
    "response = requests.get(urls[2],headers=headers)"
   ]
  },
  {
   "cell_type": "code",
   "execution_count": 33,
   "id": "66419348",
   "metadata": {},
   "outputs": [],
   "source": [
    "soup = BeautifulSoup(response.text,'html.parser')"
   ]
  },
  {
   "cell_type": "code",
   "execution_count": 34,
   "id": "6ccd266b",
   "metadata": {},
   "outputs": [
    {
     "data": {
      "text/plain": [
       "'Hiring Tech Talent Around the Holidays - Codeup'"
      ]
     },
     "execution_count": 34,
     "metadata": {},
     "output_type": "execute_result"
    }
   ],
   "source": [
    "soup.title.string"
   ]
  },
  {
   "cell_type": "code",
   "execution_count": 23,
   "id": "3383c341",
   "metadata": {},
   "outputs": [
    {
     "data": {
      "text/plain": [
       "'<html>\\n <head>\\n  <title>\\n   403 Forbidden\\n  </title>\\n </head>\\n <body>\\n  <center>\\n   <h1>\\n    403 Forbidden\\n   </h1>\\n  </center>\\n  <hr/>\\n  <center>\\n   nginx\\n  </center>\\n </body>\\n</html>\\n'"
      ]
     },
     "execution_count": 23,
     "metadata": {},
     "output_type": "execute_result"
    }
   ],
   "source": [
    "soup.prettify()"
   ]
  },
  {
   "cell_type": "code",
   "execution_count": 36,
   "id": "47e8b0e0",
   "metadata": {},
   "outputs": [],
   "source": [
    "url = 'https://codeup.com/blog/'\n",
    "response = requests.get(url,headers=headers)\n",
    "soup = BeautifulSoup(response.text,'html.parser')"
   ]
  },
  {
   "cell_type": "code",
   "execution_count": 45,
   "id": "3dcf7c33",
   "metadata": {},
   "outputs": [],
   "source": [
    "read_more = soup.select('.more-link')"
   ]
  },
  {
   "cell_type": "code",
   "execution_count": 56,
   "id": "72bcb171",
   "metadata": {},
   "outputs": [],
   "source": [
    "hrefs = [a['href'] for a in read_more]"
   ]
  },
  {
   "cell_type": "code",
   "execution_count": 57,
   "id": "c832c6df",
   "metadata": {},
   "outputs": [
    {
     "data": {
      "text/plain": [
       "['https://codeup.com/codeup-news/panelist-spotlight-4/',\n",
       " 'https://codeup.com/events/black-excellence-in-tech-panelist-spotlight-stephanie-jones/',\n",
       " 'https://codeup.com/events/black-excellence-in-tech-panelist-spotlight-james-cooper/',\n",
       " 'https://codeup.com/events/black-excellence-in-tech-panelist-spotlight/',\n",
       " 'https://codeup.com/tips-for-prospective-students/coding-bootcamp-or-self-learning/',\n",
       " 'https://codeup.com/codeup-news/codeup-best-bootcamps/']"
      ]
     },
     "execution_count": 57,
     "metadata": {},
     "output_type": "execute_result"
    }
   ],
   "source": [
    "hrefs"
   ]
  },
  {
   "cell_type": "code",
   "execution_count": 58,
   "id": "9cb3d2c0",
   "metadata": {},
   "outputs": [],
   "source": [
    "url = hrefs[0]\n",
    "response = requests.get(url,headers=headers)\n",
    "soup = BeautifulSoup(response.text,'html.parser')"
   ]
  },
  {
   "cell_type": "code",
   "execution_count": 60,
   "id": "26709fba",
   "metadata": {},
   "outputs": [
    {
     "data": {
      "text/plain": [
       "'Black Excellence in Tech: Panelist Spotlight - Wilmarie De La Cruz Mejia'"
      ]
     },
     "execution_count": 60,
     "metadata": {},
     "output_type": "execute_result"
    }
   ],
   "source": [
    "soup.title.string"
   ]
  },
  {
   "cell_type": "code",
   "execution_count": 89,
   "id": "a0917227",
   "metadata": {},
   "outputs": [
    {
     "data": {
      "text/plain": [
       "[<span class=\"menu-name-behind\"></span>,\n",
       " <span class=\"menu-text\"></span>,\n",
       " <span class=\"hamburger-box\">\n",
       " <span class=\"hamburger-inner\"></span>\n",
       " </span>,\n",
       " <span class=\"hamburger-inner\"></span>,\n",
       " <span id=\"et_search_icon\"></span>,\n",
       " <span class=\"close\"></span>,\n",
       " <span class=\"mobile_menu_bar\"></span>,\n",
       " <span class=\"published\">Feb 16, 2023</span>,\n",
       " <span style=\"font-weight: 400;\">Codeup is hosting a Black Excellence in Tech Panel in honor of Black History Month on February 22, 2023! To further celebrate, we’d like to spotlight each of our panelists leading up to the discussion to learn a bit about their respective experiences as black leaders in the tech industry!  </span>,\n",
       " <span style=\"font-weight: 400;\">Wilmarie De</span>,\n",
       " <span style=\"font-weight: 400;\"> La Cruz Mejia</span>,\n",
       " <span style=\"font-weight: 400;\"> is a current Codeup student on the path to becoming a Full-Stack Web Developer at our Dallas, TX campus. </span>,\n",
       " <span style=\"font-weight: 400;\">Wilmarie is a veteran expanding her knowledge of programming languages and technologies on her journey with Codeup. </span>,\n",
       " <span style=\"font-weight: 400;\">We asked Wilmarie to share more about her experience at Codeup. She shares, “</span>,\n",
       " <span style=\"font-weight: 400;\">I was able to meet other people who were passionate about coding and be in a positive learning environment.”</span>,\n",
       " <span style=\"font-weight: 400;\">We hope you can <a href=\"https://codeup.com/event/codeup-black-excellence-in-tech-panel-discussion/\">join us</a> on February 22nd to sit in on an insightful conversation with Wilmarie and all of our panelists!</span>,\n",
       " <span aria-hidden=\"true\" class=\"et_pb_social_media_follow_network_name\">Follow</span>,\n",
       " <span aria-hidden=\"true\" class=\"et_pb_social_media_follow_network_name\">Follow</span>,\n",
       " <span aria-hidden=\"true\" class=\"et_pb_social_media_follow_network_name\">Follow</span>,\n",
       " <span aria-hidden=\"true\" class=\"et_pb_social_media_follow_network_name\">Follow</span>,\n",
       " <span aria-hidden=\"true\" class=\"et_pb_social_media_follow_network_name\">Follow</span>,\n",
       " <span class=\"et_pb_image_wrap\"><img alt=\"quack quack\" class=\"wp-image-15815\" decoding=\"async\" height=\"256\" loading=\"lazy\" sizes=\"(max-width: 336px) 100vw, 336px\" src=\"https://tribucodeup.wpenginepowered.com/wp-content/uploads/2018/08/codey-1.png\" srcset=\"https://tribucodeup.wpenginepowered.com/wp-content/uploads/2018/08/codey-1.png 336w, https://tribucodeup.wpenginepowered.com/wp-content/uploads/2018/08/codey-1-300x229.png 300w\" title=\"Codey\" width=\"336\"/></span>,\n",
       " <span style=\"font-size: x-small;\">If you love researching data and reading the fine print, you’ll do well in our programs.</span>,\n",
       " <span><div class=\"cli-bar-container cli-style-v2\"><div class=\"cli-bar-message\">We use cookies on our website to give you the most relevant experience by remembering your preferences and repeat visits. By clicking “Accept”, you consent to the use of ALL the cookies.<div class=\"wt-cli-ccpa-element\"> <a class=\"wt-cli-ccpa-opt-out\" style=\"color:#333333\">No worries, we do not sell your personal information.</a>.</div></div><div class=\"cli-bar-btn_container\"><a class=\"medium cli-plugin-button cli-plugin-main-button cli_settings_button\" role=\"button\" style=\"margin:0px 10px 0px 5px\">Cookie Settings</a><a class=\"medium cli-plugin-button cli-plugin-main-button cookie_action_close_header cli_action_button wt-cli-accept-btn\" data-cli_action=\"accept\" id=\"cookie_action_close_header\" role=\"button\" style=\"display:inline-block\">Accept</a></div></div></span>,\n",
       " <span id=\"cookie_hdr_showagain\">Manage consent</span>,\n",
       " <span class=\"wt-cli-sr-only\">Close</span>,\n",
       " <span class=\"cli-necessary-caption\">Always Enabled</span>,\n",
       " <span class=\"wt-cli-sr-only\">Functional</span>,\n",
       " <span class=\"wt-cli-sr-only\">Performance</span>,\n",
       " <span class=\"wt-cli-sr-only\">Analytics</span>,\n",
       " <span class=\"wt-cli-sr-only\">Advertisement</span>,\n",
       " <span class=\"wt-cli-sr-only\">Others</span>,\n",
       " <span class=\"et_pb_scroll_top et-pb-icon\"></span>]"
      ]
     },
     "execution_count": 89,
     "metadata": {},
     "output_type": "execute_result"
    }
   ],
   "source": [
    "soup.find_all('span')"
   ]
  },
  {
   "cell_type": "code",
   "execution_count": 68,
   "id": "2d70f481",
   "metadata": {},
   "outputs": [],
   "source": [
    "a = soup.find_all('p')"
   ]
  },
  {
   "cell_type": "code",
   "execution_count": 75,
   "id": "6e329e86",
   "metadata": {},
   "outputs": [
    {
     "data": {
      "text/plain": [
       "'Wilmarie De\\xa0La Cruz Mejia is a current Codeup student on the path to becoming a Full-Stack Web Developer at our Dallas, TX campus.\\xa0'"
      ]
     },
     "execution_count": 75,
     "metadata": {},
     "output_type": "execute_result"
    }
   ],
   "source": [
    "a[4].text"
   ]
  },
  {
   "cell_type": "code",
   "execution_count": 83,
   "id": "f853ab35",
   "metadata": {},
   "outputs": [
    {
     "data": {
      "text/plain": [
       "<p class=\"post-meta\"><span class=\"published\">Feb 16, 2023</span> | <a href=\"https://codeup.com/category/codeup-news/\" rel=\"category tag\">Codeup News</a>, <a href=\"https://codeup.com/category/events/\" rel=\"category tag\">Events</a>, <a href=\"https://codeup.com/category/featured/\" rel=\"category tag\">Featured</a></p>"
      ]
     },
     "execution_count": 83,
     "metadata": {},
     "output_type": "execute_result"
    }
   ],
   "source": [
    "soup.p"
   ]
  },
  {
   "cell_type": "code",
   "execution_count": 100,
   "id": "ad7d0b85",
   "metadata": {},
   "outputs": [],
   "source": [
    "\n",
    "#Define headers\n",
    "headers = {'User-Agent': 'Codeup Data Science'}"
   ]
  },
  {
   "cell_type": "code",
   "execution_count": 106,
   "id": "31ce492f",
   "metadata": {},
   "outputs": [
    {
     "data": {
      "text/plain": [
       "[<a class=\"more-link\" href=\"https://codeup.com/codeup-news/panelist-spotlight-4/\">read more</a>,\n",
       " <a class=\"more-link\" href=\"https://codeup.com/events/black-excellence-in-tech-panelist-spotlight-stephanie-jones/\">read more</a>,\n",
       " <a class=\"more-link\" href=\"https://codeup.com/events/black-excellence-in-tech-panelist-spotlight-james-cooper/\">read more</a>,\n",
       " <a class=\"more-link\" href=\"https://codeup.com/events/black-excellence-in-tech-panelist-spotlight/\">read more</a>,\n",
       " <a class=\"more-link\" href=\"https://codeup.com/tips-for-prospective-students/coding-bootcamp-or-self-learning/\">read more</a>,\n",
       " <a class=\"more-link\" href=\"https://codeup.com/codeup-news/codeup-best-bootcamps/\">read more</a>]"
      ]
     },
     "execution_count": 106,
     "metadata": {},
     "output_type": "execute_result"
    }
   ],
   "source": [
    "#Scrape blog homepage for links\n",
    "url = 'https://codeup.com/blog/'\n",
    "\n",
    "response = requests.get(url, headers=headers)\n",
    "\n",
    "soup = BeautifulSoup(response.content, 'html.parser')\n",
    "\n",
    "more_links = soup.find_all('a', class_='more-link')\n",
    "\n",
    "more_links"
   ]
  },
  {
   "cell_type": "code",
   "execution_count": 107,
   "id": "6edf039f",
   "metadata": {},
   "outputs": [
    {
     "data": {
      "text/plain": [
       "['https://codeup.com/codeup-news/panelist-spotlight-4/',\n",
       " 'https://codeup.com/events/black-excellence-in-tech-panelist-spotlight-stephanie-jones/',\n",
       " 'https://codeup.com/events/black-excellence-in-tech-panelist-spotlight-james-cooper/',\n",
       " 'https://codeup.com/events/black-excellence-in-tech-panelist-spotlight/',\n",
       " 'https://codeup.com/tips-for-prospective-students/coding-bootcamp-or-self-learning/',\n",
       " 'https://codeup.com/codeup-news/codeup-best-bootcamps/']"
      ]
     },
     "execution_count": 107,
     "metadata": {},
     "output_type": "execute_result"
    }
   ],
   "source": [
    "#Extract the links into something I can use\n",
    "links_list = [link['href'] for link in more_links]\n",
    "\n",
    "links_list"
   ]
  },
  {
   "cell_type": "code",
   "execution_count": 109,
   "id": "155d0b9f",
   "metadata": {},
   "outputs": [],
   "source": [
    "#Make a request\n",
    "response = requests.get('https://codeup.com/codeup-news/panelist-spotlight-4/', headers=headers)"
   ]
  },
  {
   "cell_type": "code",
   "execution_count": 110,
   "id": "45e6d9a2",
   "metadata": {},
   "outputs": [
    {
     "data": {
      "text/plain": [
       "'Black Excellence in Tech: Panelist Spotlight – Wilmarie De La Cruz Mejia'"
      ]
     },
     "execution_count": 110,
     "metadata": {},
     "output_type": "execute_result"
    }
   ],
   "source": [
    "#Create the soup and investigate\n",
    "soup = BeautifulSoup(response.content, 'html.parser')\n",
    "example = soup.find('h1')\n",
    "example.text"
   ]
  },
  {
   "cell_type": "code",
   "execution_count": 111,
   "id": "1e8b30c8",
   "metadata": {},
   "outputs": [
    {
     "data": {
      "text/plain": [
       "'Feb 16, 2023'"
      ]
     },
     "execution_count": 111,
     "metadata": {},
     "output_type": "execute_result"
    }
   ],
   "source": [
    "#Access the date published\n",
    "example2 = soup.find('span', class_='published')\n",
    "example2.text"
   ]
  },
  {
   "cell_type": "code",
   "execution_count": 112,
   "id": "1c85b0a2",
   "metadata": {},
   "outputs": [
    {
     "data": {
      "text/plain": [
       "'\\nBlack excellence in tech: Panelist Spotlight – Wilmarie De La Cruz Mejia\\n\\nCodeup is hosting a Black Excellence in Tech Panel in honor of Black History Month on February 22, 2023! To further celebrate, we’d like to spotlight each of our panelists leading up to the discussion to learn a bit about their respective experiences as black leaders in the tech industry!\\xa0\\xa0\\nMeet Wilmarie!\\nWilmarie De\\xa0La Cruz Mejia is a current Codeup student on the path to becoming a Full-Stack Web Developer at our Dallas, TX campus.\\xa0\\nWilmarie is a veteran expanding her knowledge of programming languages and technologies on her journey with Codeup.\\xa0\\nWe asked Wilmarie to share more about her experience at Codeup. She shares, “I was able to meet other people who were passionate about coding and be in a positive learning environment.”\\nWe hope you can join us on February 22nd to sit in on an insightful conversation with Wilmarie and all of our panelists!\\n'"
      ]
     },
     "execution_count": 112,
     "metadata": {},
     "output_type": "execute_result"
    }
   ],
   "source": [
    "#Access the article content\n",
    "example3 = soup.find('div', class_='entry-content')\n",
    "example3.text"
   ]
  },
  {
   "cell_type": "code",
   "execution_count": 114,
   "id": "ab734d55",
   "metadata": {},
   "outputs": [
    {
     "data": {
      "text/plain": [
       "{'title': 'Black Excellence in Tech: Panelist Spotlight – Wilmarie De La Cruz Mejia',\n",
       " 'link': 'https://codeup.com/codeup-news/panelist-spotlight-4/',\n",
       " 'date_published': 'Feb 16, 2023',\n",
       " 'content': 'Black excellence in tech: Panelist Spotlight – Wilmarie De La Cruz Mejia\\n\\nCodeup is hosting a Black Excellence in Tech Panel in honor of Black History Month on February 22, 2023! To further celebrate, we’d like to spotlight each of our panelists leading up to the discussion to learn a bit about their respective experiences as black leaders in the tech industry!\\xa0\\xa0\\nMeet Wilmarie!\\nWilmarie De\\xa0La Cruz Mejia is a current Codeup student on the path to becoming a Full-Stack Web Developer at our Dallas, TX campus.\\xa0\\nWilmarie is a veteran expanding her knowledge of programming languages and technologies on her journey with Codeup.\\xa0\\nWe asked Wilmarie to share more about her experience at Codeup. She shares, “I was able to meet other people who were passionate about coding and be in a positive learning environment.”\\nWe hope you can join us on February 22nd to sit in on an insightful conversation with Wilmarie and all of our panelists!'}"
      ]
     },
     "execution_count": 114,
     "metadata": {},
     "output_type": "execute_result"
    }
   ],
   "source": [
    "#Loop through the links to collect the relevant information from the blog posts\n",
    "article_info = []\n",
    "\n",
    "for link in links_list:\n",
    "    \n",
    "    response = requests.get(link, headers=headers)\n",
    "    \n",
    "    soup = BeautifulSoup(response.content, 'html.parser')\n",
    "    \n",
    "    info_dict = {'title': soup.find('h1').text,\n",
    "                 'link': link,\n",
    "                 'date_published': soup.find('span', class_='published').text,\n",
    "                 'content': soup.find('div', class_='entry-content').text.strip()}\n",
    "    \n",
    "    article_info.append(info_dict)\n",
    "    \n",
    "article_info[0]   "
   ]
  },
  {
   "cell_type": "code",
   "execution_count": null,
   "id": "21c1f3d7",
   "metadata": {},
   "outputs": [],
   "source": []
  },
  {
   "cell_type": "code",
   "execution_count": 125,
   "id": "2b898511",
   "metadata": {},
   "outputs": [],
   "source": [
    "#Create a function to collect the information and cache it as a json file\n",
    "def get_blog_articles(article_list):\n",
    "    \n",
    "    file = 'blog_posts.json'\n",
    "    \n",
    "#     if os.path.exists(file):\n",
    "        \n",
    "#         with open(file) as f:\n",
    "        \n",
    "#             return json.load(f)\n",
    "    \n",
    "    headers = {'User-Agent': 'Codeup Data Science'}\n",
    "    \n",
    "    article_info = []\n",
    "    \n",
    "    for article in article_list:\n",
    "        \n",
    "        response = requests.get(article, headers=headers)\n",
    "        \n",
    "        soup = BeautifulSoup(response.content, 'html.parser')\n",
    "        \n",
    "        info_dict = {'title': soup.find('h1').text,\n",
    "                     'link': article,\n",
    "                     'date_published': soup.find('span', class_='published').text,\n",
    "                     'content': soup.find('div', class_='entry-content').text}\n",
    "    \n",
    "        article_info.append(info_dict)\n",
    "        \n",
    "    with open(file, 'w') as f:\n",
    "        \n",
    "        json.dump(article_info, f)\n",
    "        \n",
    "    return article_info    "
   ]
  },
  {
   "cell_type": "code",
   "execution_count": 126,
   "id": "10789dbb",
   "metadata": {},
   "outputs": [],
   "source": [
    "#Run my function to make sure it works!\n",
    "article_info = get_blog_articles(links_list)\n"
   ]
  },
  {
   "cell_type": "code",
   "execution_count": 127,
   "id": "edee0d34",
   "metadata": {},
   "outputs": [
    {
     "data": {
      "text/plain": [
       "{'title': 'Black Excellence in Tech: Panelist Spotlight – Wilmarie De La Cruz Mejia',\n",
       " 'link': 'https://codeup.com/codeup-news/panelist-spotlight-4/',\n",
       " 'date_published': 'Feb 16, 2023',\n",
       " 'content': '\\nBlack excellence in tech: Panelist Spotlight – Wilmarie De La Cruz Mejia\\n\\nCodeup is hosting a Black Excellence in Tech Panel in honor of Black History Month on February 22, 2023! To further celebrate, we’d like to spotlight each of our panelists leading up to the discussion to learn a bit about their respective experiences as black leaders in the tech industry!\\xa0\\xa0\\nMeet Wilmarie!\\nWilmarie De\\xa0La Cruz Mejia is a current Codeup student on the path to becoming a Full-Stack Web Developer at our Dallas, TX campus.\\xa0\\nWilmarie is a veteran expanding her knowledge of programming languages and technologies on her journey with Codeup.\\xa0\\nWe asked Wilmarie to share more about her experience at Codeup. She shares, “I was able to meet other people who were passionate about coding and be in a positive learning environment.”\\nWe hope you can join us on February 22nd to sit in on an insightful conversation with Wilmarie and all of our panelists!\\n'}"
      ]
     },
     "execution_count": 127,
     "metadata": {},
     "output_type": "execute_result"
    }
   ],
   "source": [
    "article_info[0]"
   ]
  },
  {
   "cell_type": "code",
   "execution_count": 130,
   "id": "be02a6b6",
   "metadata": {},
   "outputs": [],
   "source": [
    "#Define a function to scrape articles from one topic\n",
    "def scrape_one_page(topic):\n",
    "    \n",
    "    base_url = 'https://inshorts.com/en/read/'\n",
    "    \n",
    "    response = requests.get(base_url + topic)\n",
    "    \n",
    "    soup = BeautifulSoup(response.content, 'html.parser')\n",
    "    \n",
    "    titles = soup.find_all('span', itemprop='headline')\n",
    "    \n",
    "    summaries = soup.find_all('div', itemprop='articleBody')\n",
    "    \n",
    "    summary_list = []\n",
    "    \n",
    "    for i in range(len(titles)):\n",
    "        \n",
    "        temp_dict = {'category': topic,\n",
    "                     'title': titles[i].text,\n",
    "                     'content': summaries[i].text}\n",
    "        \n",
    "        summary_list.append(temp_dict)\n",
    "        \n",
    "    return summary_list   "
   ]
  },
  {
   "cell_type": "code",
   "execution_count": 131,
   "id": "69c7ff85",
   "metadata": {},
   "outputs": [
    {
     "data": {
      "text/plain": [
       "{'category': 'business',\n",
       " 'title': 'All Adani stocks end higher for the first time since Hindenburg report',\n",
       " 'content': 'All 10 Adani Group stocks closed higher on Wednesday, the first such occurrence since the report by US short-seller Hindenburg Research in late January that accused the group of fraud. Adani Enterprises led the rally, advancing almost 15% as the group conducted investor meetings in Singapore and Hong Kong. Adani Transmission and Adani Power rose by the 5% daily limit.'}"
      ]
     },
     "execution_count": 131,
     "metadata": {},
     "output_type": "execute_result"
    }
   ],
   "source": [
    "#Test my function on the business page\n",
    "business_test = scrape_one_page('business')\n",
    "business_test[0]"
   ]
  },
  {
   "cell_type": "code",
   "execution_count": 132,
   "id": "2ea8dc0e",
   "metadata": {},
   "outputs": [],
   "source": [
    "#Define a function that will scrape information about an array of topics\n",
    "def get_news_articles(topic_list):\n",
    "    \n",
    "    file = 'news_articles.json'\n",
    "    \n",
    "    if os.path.exists(file):\n",
    "        \n",
    "        with open(file) as f:\n",
    "            \n",
    "            return json.load(f)\n",
    "    \n",
    "    final_list = []\n",
    "    \n",
    "    for topic in topic_list:\n",
    "        \n",
    "        final_list.extend(scrape_one_page(topic))\n",
    "        \n",
    "    with open(file, 'w') as f:\n",
    "        \n",
    "        json.dump(final_list, f)\n",
    "        \n",
    "    return final_list    "
   ]
  },
  {
   "cell_type": "code",
   "execution_count": 133,
   "id": "4a9e1031",
   "metadata": {},
   "outputs": [
    {
     "data": {
      "text/plain": [
       "{'category': 'business',\n",
       " 'title': 'All Adani stocks end higher for the first time since Hindenburg report',\n",
       " 'content': 'All 10 Adani Group stocks closed higher on Wednesday, the first such occurrence since the report by US short-seller Hindenburg Research in late January that accused the group of fraud. Adani Enterprises led the rally, advancing almost 15% as the group conducted investor meetings in Singapore and Hong Kong. Adani Transmission and Adani Power rose by the 5% daily limit.'}"
      ]
     },
     "execution_count": 133,
     "metadata": {},
     "output_type": "execute_result"
    }
   ],
   "source": [
    "#Test my function!\n",
    "topics = ['business', 'sports', 'technology', 'entertainment']\n",
    "\n",
    "final_list = get_news_articles(topics)\n",
    "final_list[0]"
   ]
  },
  {
   "cell_type": "code",
   "execution_count": 134,
   "id": "e18f5b4a",
   "metadata": {},
   "outputs": [
    {
     "data": {
      "text/html": [
       "<div>\n",
       "<style scoped>\n",
       "    .dataframe tbody tr th:only-of-type {\n",
       "        vertical-align: middle;\n",
       "    }\n",
       "\n",
       "    .dataframe tbody tr th {\n",
       "        vertical-align: top;\n",
       "    }\n",
       "\n",
       "    .dataframe thead th {\n",
       "        text-align: right;\n",
       "    }\n",
       "</style>\n",
       "<table border=\"1\" class=\"dataframe\">\n",
       "  <thead>\n",
       "    <tr style=\"text-align: right;\">\n",
       "      <th></th>\n",
       "      <th>category</th>\n",
       "      <th>title</th>\n",
       "      <th>content</th>\n",
       "    </tr>\n",
       "  </thead>\n",
       "  <tbody>\n",
       "    <tr>\n",
       "      <th>0</th>\n",
       "      <td>business</td>\n",
       "      <td>All Adani stocks end higher for the first time...</td>\n",
       "      <td>All 10 Adani Group stocks closed higher on Wed...</td>\n",
       "    </tr>\n",
       "    <tr>\n",
       "      <th>1</th>\n",
       "      <td>business</td>\n",
       "      <td>Smriti Irani's 2011 tweet on LPG price hike re...</td>\n",
       "      <td>Hours after the central government raised the ...</td>\n",
       "    </tr>\n",
       "    <tr>\n",
       "      <th>2</th>\n",
       "      <td>business</td>\n",
       "      <td>Indian-Americans Renjen, Subramaniam to be mem...</td>\n",
       "      <td>Indian-Americans Punit Renjen and Rajesh Subra...</td>\n",
       "    </tr>\n",
       "    <tr>\n",
       "      <th>3</th>\n",
       "      <td>business</td>\n",
       "      <td>Adani secures $3 bn credit from a sovereign we...</td>\n",
       "      <td>Adani Group has reportedly told creditors it h...</td>\n",
       "    </tr>\n",
       "    <tr>\n",
       "      <th>4</th>\n",
       "      <td>business</td>\n",
       "      <td>We can score a century for progress: Gates on ...</td>\n",
       "      <td>Microsoft Co-founder Bill Gates shared a messa...</td>\n",
       "    </tr>\n",
       "  </tbody>\n",
       "</table>\n",
       "</div>"
      ],
      "text/plain": [
       "   category                                              title  \\\n",
       "0  business  All Adani stocks end higher for the first time...   \n",
       "1  business  Smriti Irani's 2011 tweet on LPG price hike re...   \n",
       "2  business  Indian-Americans Renjen, Subramaniam to be mem...   \n",
       "3  business  Adani secures $3 bn credit from a sovereign we...   \n",
       "4  business  We can score a century for progress: Gates on ...   \n",
       "\n",
       "                                             content  \n",
       "0  All 10 Adani Group stocks closed higher on Wed...  \n",
       "1  Hours after the central government raised the ...  \n",
       "2  Indian-Americans Punit Renjen and Rajesh Subra...  \n",
       "3  Adani Group has reportedly told creditors it h...  \n",
       "4  Microsoft Co-founder Bill Gates shared a messa...  "
      ]
     },
     "execution_count": 134,
     "metadata": {},
     "output_type": "execute_result"
    }
   ],
   "source": [
    "#Turn it into a dataframe!\n",
    "final_df = pd.DataFrame(final_list)\n",
    "final_df.head()"
   ]
  },
  {
   "cell_type": "code",
   "execution_count": null,
   "id": "9b6617dc",
   "metadata": {},
   "outputs": [],
   "source": []
  }
 ],
 "metadata": {
  "kernelspec": {
   "display_name": "Python 3 (ipykernel)",
   "language": "python",
   "name": "python3"
  },
  "language_info": {
   "codemirror_mode": {
    "name": "ipython",
    "version": 3
   },
   "file_extension": ".py",
   "mimetype": "text/x-python",
   "name": "python",
   "nbconvert_exporter": "python",
   "pygments_lexer": "ipython3",
   "version": "3.9.7"
  }
 },
 "nbformat": 4,
 "nbformat_minor": 5
}
