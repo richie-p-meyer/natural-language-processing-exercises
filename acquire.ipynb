{
 "cells": [
  {
   "cell_type": "code",
   "execution_count": 1,
   "id": "483a3db0",
   "metadata": {},
   "outputs": [],
   "source": [
    "import pandas as pd\n",
    "import numpy as np\n",
    "import requests"
   ]
  },
  {
   "cell_type": "markdown",
   "id": "69f30685",
   "metadata": {},
   "source": [
    "https://codeup.com/tips-for-prospective-students/coding-bootcamp-or-self-learning/  \n",
    "https://codeup.com/data-science/become-a-data-scientist/  \n",
    "https://codeup.com/employers/hiring-tech-talent/  \n",
    "https://codeup.com/cloud-administration/cap-funding-options/  \n",
    "https://codeup.com/dallas-info/it-professionals-dallas/  "
   ]
  },
  {
   "cell_type": "code",
   "execution_count": null,
   "id": "ad688a4b",
   "metadata": {},
   "outputs": [],
   "source": []
  }
 ],
 "metadata": {
  "kernelspec": {
   "display_name": "Python 3 (ipykernel)",
   "language": "python",
   "name": "python3"
  },
  "language_info": {
   "codemirror_mode": {
    "name": "ipython",
    "version": 3
   },
   "file_extension": ".py",
   "mimetype": "text/x-python",
   "name": "python",
   "nbconvert_exporter": "python",
   "pygments_lexer": "ipython3",
   "version": "3.9.7"
  }
 },
 "nbformat": 4,
 "nbformat_minor": 5
}
