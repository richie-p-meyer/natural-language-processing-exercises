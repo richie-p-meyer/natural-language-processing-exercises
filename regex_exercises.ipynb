{
 "cells": [
  {
   "cell_type": "code",
   "execution_count": 1,
   "id": "dead1d18",
   "metadata": {},
   "outputs": [],
   "source": [
    "import pandas as pd\n",
    "import numpy as np\n",
    "\n",
    "import re\n"
   ]
  },
  {
   "cell_type": "markdown",
   "id": "dbd93629",
   "metadata": {},
   "source": [
    "Write a function named is_vowel. It should accept a string as input and use a regular expression to determine if the passed string is a vowel. While not explicity mentioned in the lesson, you can treat the result of re.search as a boolean value that indicates whether or not the regular expression matches the given string."
   ]
  },
  {
   "cell_type": "code",
   "execution_count": 5,
   "id": "0221fe27",
   "metadata": {},
   "outputs": [],
   "source": [
    "def is_vowel(s):\n",
    "    if re.search(r'[aeiou]',s):\n",
    "        return True\n",
    "    else:\n",
    "        return False\n",
    "    "
   ]
  },
  {
   "cell_type": "code",
   "execution_count": 7,
   "id": "650bfc8d",
   "metadata": {},
   "outputs": [
    {
     "data": {
      "text/plain": [
       "False"
      ]
     },
     "execution_count": 7,
     "metadata": {},
     "output_type": "execute_result"
    }
   ],
   "source": [
    "is_vowel('b')"
   ]
  },
  {
   "cell_type": "markdown",
   "id": "c04b10c1",
   "metadata": {},
   "source": [
    "Write a function named is_valid_username that accepts a string as input. A valid username starts with a lowercase letter, and only consists of lowercase letters, numbers, or the _ character. It should also be no longer than 32 characters. The function should return either True or False depending on whether the passed string is a valid username."
   ]
  },
  {
   "cell_type": "code",
   "execution_count": 97,
   "id": "181333d9",
   "metadata": {},
   "outputs": [],
   "source": [
    "def is_valid_username(s):\n",
    "    if re.search(r'^[a-z][a-z0-9_]{0,31}',s) == None:\n",
    "        return False\n",
    "    else:\n",
    "        start, end = re.search(r'^[a-z][a-z0-9_]{0,31}',s).span()\n",
    "\n",
    "        if start ==0 and end == len(s):\n",
    "            return True\n",
    "        else:\n",
    "            return False"
   ]
  },
  {
   "cell_type": "code",
   "execution_count": 100,
   "id": "4be61af3",
   "metadata": {},
   "outputs": [
    {
     "data": {
      "text/plain": [
       "False"
      ]
     },
     "execution_count": 100,
     "metadata": {},
     "output_type": "execute_result"
    }
   ],
   "source": [
    "is_valid_username('aaaaaaaaaaaaaaaaaaaaaaaaaaaaaaaaa')"
   ]
  },
  {
   "cell_type": "code",
   "execution_count": 101,
   "id": "6f95d839",
   "metadata": {},
   "outputs": [
    {
     "data": {
      "text/plain": [
       "False"
      ]
     },
     "execution_count": 101,
     "metadata": {},
     "output_type": "execute_result"
    }
   ],
   "source": [
    "is_valid_username('1codeup')"
   ]
  },
  {
   "cell_type": "code",
   "execution_count": 102,
   "id": "13491a65",
   "metadata": {},
   "outputs": [
    {
     "data": {
      "text/plain": [
       "True"
      ]
     },
     "execution_count": 102,
     "metadata": {},
     "output_type": "execute_result"
    }
   ],
   "source": [
    "is_valid_username('codeup123')"
   ]
  },
  {
   "cell_type": "markdown",
   "id": "6f4bab2e",
   "metadata": {},
   "source": [
    "Write a regular expression to capture phone numbers. It should match all of the following:  \n",
    "(210) 867 5309  \n",
    "+1 210.867.5309  \n",
    "867-5309  \n",
    "210-867-5309  \n"
   ]
  },
  {
   "cell_type": "code",
   "execution_count": 109,
   "id": "20c01863",
   "metadata": {},
   "outputs": [],
   "source": [
    "pattern = r'\\D?\\d?\\D?\\d{0,3}\\D*\\d{3}\\D\\d{4}'"
   ]
  },
  {
   "cell_type": "code",
   "execution_count": 111,
   "id": "b90e2675",
   "metadata": {},
   "outputs": [
    {
     "data": {
      "text/plain": [
       "<re.Match object; span=(0, 15), match='+1 210.867.5309'>"
      ]
     },
     "execution_count": 111,
     "metadata": {},
     "output_type": "execute_result"
    }
   ],
   "source": [
    "re.search(pattern,'+1 210.867.5309')"
   ]
  },
  {
   "cell_type": "markdown",
   "id": "39102df8",
   "metadata": {},
   "source": [
    "Use regular expressions to convert the dates below to the standardized year-month-day format.   \n",
    "YYYY-MM-DD  \n",
    "02/04/19  \n",
    "02/05/19  \n",
    "02/06/19  \n",
    "02/07/19  \n",
    "02/08/19  \n",
    "02/09/19  \n",
    "02/10/19  "
   ]
  },
  {
   "cell_type": "code",
   "execution_count": 116,
   "id": "fb07ca44",
   "metadata": {},
   "outputs": [],
   "source": [
    "match = re.search(r'(\\d{2})/(\\d{2})/(\\d{2})','02/04/19')"
   ]
  },
  {
   "cell_type": "code",
   "execution_count": 120,
   "id": "34a52fdc",
   "metadata": {},
   "outputs": [
    {
     "data": {
      "text/plain": [
       "('02/04/19', '02', '04', '19')"
      ]
     },
     "execution_count": 120,
     "metadata": {},
     "output_type": "execute_result"
    }
   ],
   "source": [
    "match[0],match[1],match[2],match[3]"
   ]
  },
  {
   "cell_type": "code",
   "execution_count": 126,
   "id": "a3809bb4",
   "metadata": {},
   "outputs": [
    {
     "data": {
      "text/plain": [
       "'2019/02/04'"
      ]
     },
     "execution_count": 126,
     "metadata": {},
     "output_type": "execute_result"
    }
   ],
   "source": [
    "a,b,c = re.search(r'(\\d{2})/(\\d{2})/(\\d{2})','02/04/19').groups()\n",
    "'20'+c+'/'+a+'/'+b"
   ]
  },
  {
   "cell_type": "code",
   "execution_count": 128,
   "id": "2ba91464",
   "metadata": {},
   "outputs": [],
   "source": [
    "def fix_dates(s):\n",
    "    a,b,c = re.search(r'(\\d{2})/(\\d{2})/(\\d{2})',s).groups()\n",
    "    return '20'+c+'/'+a+'/'+b"
   ]
  },
  {
   "cell_type": "code",
   "execution_count": 131,
   "id": "9ec18dd0",
   "metadata": {},
   "outputs": [
    {
     "data": {
      "text/plain": [
       "['2019/02/04',\n",
       " '2019/02/05',\n",
       " '2019/02/06',\n",
       " '2019/02/07',\n",
       " '2019/02/08',\n",
       " '2019/02/09',\n",
       " '2019/02/10']"
      ]
     },
     "execution_count": 131,
     "metadata": {},
     "output_type": "execute_result"
    }
   ],
   "source": [
    "dates = ['02/04/19','02/05/19','02/06/19','02/07/19','02/08/19','02/09/19','02/10/19' ]\n",
    "new_dates = [] \n",
    "for d in dates:\n",
    "    new_dates.append(fix_dates(d))\n",
    "new_dates"
   ]
  },
  {
   "cell_type": "markdown",
   "id": "75dae1f4",
   "metadata": {},
   "source": [
    "Write a regex to extract the various parts of these logfile lines:  \n",
    "GET /api/v1/sales?page=86 [16/Apr/2019:193452+0000] HTTP/1.1 {200} 510348 \"python-requests/2.21.0\" 97.105.19.58  \n",
    "\n",
    "POST /users_accounts/file-upload [16/Apr/2019:193452+0000] HTTP/1.1 {201} 42 \"User-Agent: Mozilla/5.0 (X11; Fedora; Fedora; Linux x86_64) AppleWebKit/537.36 (KHTML, like Gecko) Chrome/73.0.3683.86 Safari/537.36\" 97.105.19.58  \n",
    "\n",
    "GET /api/v1/items?page=3 [16/Apr/2019:193453+0000] HTTP/1.1 {429} 3561 \"python-requests/2.21.0\" 97.105.19.58\n"
   ]
  },
  {
   "cell_type": "code",
   "execution_count": 132,
   "id": "b9a38b45",
   "metadata": {},
   "outputs": [],
   "source": [
    "text = 'GET /api/v1/items?page=3 [16/Apr/2019:193453+0000] HTTP/1.1 {429} 3561 \"python-requests/2.21.0\" 97.105.19.58'"
   ]
  },
  {
   "cell_type": "code",
   "execution_count": 133,
   "id": "40648116",
   "metadata": {},
   "outputs": [
    {
     "data": {
      "text/plain": [
       "<re.Match object; span=(96, 108), match='97.105.19.58'>"
      ]
     },
     "execution_count": 133,
     "metadata": {},
     "output_type": "execute_result"
    }
   ],
   "source": [
    "re.search(r'(\\d{2}\\.\\d{3}\\.\\d{2}\\.\\d{2})',text) # pattern for ip"
   ]
  },
  {
   "cell_type": "code",
   "execution_count": 135,
   "id": "7f05d6ea",
   "metadata": {},
   "outputs": [
    {
     "data": {
      "text/plain": [
       "<re.Match object; span=(71, 95), match='\"python-requests/2.21.0\"'>"
      ]
     },
     "execution_count": 135,
     "metadata": {},
     "output_type": "execute_result"
    }
   ],
   "source": [
    "re.search(r'(\".+\")',text) #for between the quotation marks"
   ]
  },
  {
   "cell_type": "code",
   "execution_count": 142,
   "id": "da1da9c2",
   "metadata": {},
   "outputs": [
    {
     "data": {
      "text/plain": [
       "<re.Match object; span=(25, 50), match='[16/Apr/2019:193453+0000]'>"
      ]
     },
     "execution_count": 142,
     "metadata": {},
     "output_type": "execute_result"
    }
   ],
   "source": [
    "re.search(r'(\\[.+\\])',text) # for inside brackets"
   ]
  },
  {
   "cell_type": "code",
   "execution_count": 140,
   "id": "a3e01842",
   "metadata": {},
   "outputs": [
    {
     "data": {
      "text/plain": [
       "<re.Match object; span=(4, 24), match='/api/v1/items?page=3'>"
      ]
     },
     "execution_count": 140,
     "metadata": {},
     "output_type": "execute_result"
    }
   ],
   "source": [
    "re.search(r'(/\\S+)',text) #for web link"
   ]
  },
  {
   "cell_type": "code",
   "execution_count": 144,
   "id": "5eb667d8",
   "metadata": {},
   "outputs": [
    {
     "data": {
      "text/plain": [
       "<re.Match object; span=(0, 3), match='GET'>"
      ]
     },
     "execution_count": 144,
     "metadata": {},
     "output_type": "execute_result"
    }
   ],
   "source": [
    "re.search(r'([A-Z]+)',text) #initial text"
   ]
  },
  {
   "cell_type": "code",
   "execution_count": 147,
   "id": "0772cd1e",
   "metadata": {},
   "outputs": [
    {
     "data": {
      "text/plain": [
       "'GET /api/v1/items?page=3 [16/Apr/2019:193453+0000] HTTP/1.1 {429} 3561 \"python-requests/2.21.0\" 97.105.19.58'"
      ]
     },
     "execution_count": 147,
     "metadata": {},
     "output_type": "execute_result"
    }
   ],
   "source": [
    "text"
   ]
  },
  {
   "cell_type": "code",
   "execution_count": 175,
   "id": "ec6392cd",
   "metadata": {},
   "outputs": [],
   "source": [
    "re.search(r'([A-Z]+) (/\\S+) (\\[.+\\]) ([A-Z]{4}/\\d\\.\\d) (\\{\\d{3}\\} \\d{4}) \\\n",
    "          (\".+\") (\\d{2}\\.\\d{3}\\.\\d{2}\\.\\d{2})',text)"
   ]
  },
  {
   "cell_type": "code",
   "execution_count": 150,
   "id": "6c5625a0",
   "metadata": {},
   "outputs": [
    {
     "data": {
      "text/plain": [
       "<re.Match object; span=(60, 70), match='{429} 3561'>"
      ]
     },
     "execution_count": 150,
     "metadata": {},
     "output_type": "execute_result"
    }
   ],
   "source": [
    "re.search('(\\{\\d{3}\\} \\d{4})',text)"
   ]
  },
  {
   "cell_type": "code",
   "execution_count": 177,
   "id": "ad9bba5c",
   "metadata": {},
   "outputs": [
    {
     "data": {
      "text/plain": [
       "('GET',\n",
       " '/api/v1/items?page=3',\n",
       " '[16/Apr/2019:193453+0000]',\n",
       " 'HTTP/1.1',\n",
       " '{429} 3561',\n",
       " '\"python-requests/2.21.0\"',\n",
       " '97.105.19.58')"
      ]
     },
     "execution_count": 177,
     "metadata": {},
     "output_type": "execute_result"
    }
   ],
   "source": [
    "re.search(r'([A-Z]+) (/\\S+) (\\[.+\\]) ([A-Z]{4}/\\d\\.\\d) (\\{\\d{3}\\} \\d{4}) (\".+\") (\\d{2}\\.\\d{3}\\.\\d{2}\\.\\d{2})',text).groups()"
   ]
  },
  {
   "cell_type": "code",
   "execution_count": 183,
   "id": "746260eb",
   "metadata": {},
   "outputs": [],
   "source": [
    "pattern = r'([A-Z]+) (/\\S+) (\\[.+\\]) ([A-Z]{4}/\\d\\.\\d) (\\{\\d{3}\\} \\d{4}) (\".+\") (\\d{2}\\.\\d{3}\\.\\d{2}\\.\\d{2})'"
   ]
  },
  {
   "cell_type": "code",
   "execution_count": 178,
   "id": "7e4ed2e2",
   "metadata": {},
   "outputs": [],
   "source": [
    "text = ['GET /api/v1/sales?page=86 [16/Apr/2019:193452+0000] HTTP/1.1 {200} 510348 \"python-requests/2.21.0\" 97.105.19.58',\n",
    "'POST /users_accounts/file-upload [16/Apr/2019:193452+0000] HTTP/1.1 {201} 42 \"User-Agent: Mozilla/5.0 (X11; Fedora; Fedora; Linux x86_64) AppleWebKit/537.36 (KHTML, like Gecko) Chrome/73.0.3683.86 Safari/537.36\" 97.105.19.58',\n",
    "'GET /api/v1/items?page=3 [16/Apr/2019:193453+0000] HTTP/1.1 {429} 3561 \"python-requests/2.21.0\" 97.105.19.58']"
   ]
  },
  {
   "cell_type": "code",
   "execution_count": 187,
   "id": "76a4da56",
   "metadata": {},
   "outputs": [
    {
     "data": {
      "text/plain": [
       "('GET',\n",
       " '/api/v1/items?page=3',\n",
       " '[16/Apr/2019:193453+0000]',\n",
       " 'HTTP/1.1',\n",
       " '{429} 3561',\n",
       " '\"python-requests/2.21.0\"',\n",
       " '97.105.19.58')"
      ]
     },
     "execution_count": 187,
     "metadata": {},
     "output_type": "execute_result"
    }
   ],
   "source": [
    "re.search(pattern,text[2]).groups()"
   ]
  },
  {
   "cell_type": "code",
   "execution_count": null,
   "id": "8db7e2a5",
   "metadata": {},
   "outputs": [],
   "source": []
  }
 ],
 "metadata": {
  "kernelspec": {
   "display_name": "Python 3 (ipykernel)",
   "language": "python",
   "name": "python3"
  },
  "language_info": {
   "codemirror_mode": {
    "name": "ipython",
    "version": 3
   },
   "file_extension": ".py",
   "mimetype": "text/x-python",
   "name": "python",
   "nbconvert_exporter": "python",
   "pygments_lexer": "ipython3",
   "version": "3.9.7"
  }
 },
 "nbformat": 4,
 "nbformat_minor": 5
}
