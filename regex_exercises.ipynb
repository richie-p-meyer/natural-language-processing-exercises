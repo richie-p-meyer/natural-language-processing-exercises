{
 "cells": [
  {
   "cell_type": "code",
   "execution_count": 1,
   "id": "c01e78b4",
   "metadata": {},
   "outputs": [],
   "source": [
    "import pandas as pd\n",
    "import numpy as np\n",
    "\n",
    "import re\n"
   ]
  },
  {
   "cell_type": "markdown",
   "id": "c92d6ae9",
   "metadata": {},
   "source": [
    "Write a function named is_vowel. It should accept a string as input and use a regular expression to determine if the passed string is a vowel. While not explicity mentioned in the lesson, you can treat the result of re.search as a boolean value that indicates whether or not the regular expression matches the given string."
   ]
  },
  {
   "cell_type": "code",
   "execution_count": 5,
   "id": "b30100ea",
   "metadata": {},
   "outputs": [],
   "source": [
    "def is_vowel(s):\n",
    "    if re.search(r'[aeiou]',s):\n",
    "        return True\n",
    "    else:\n",
    "        return False\n",
    "    "
   ]
  },
  {
   "cell_type": "code",
   "execution_count": 7,
   "id": "42649cd6",
   "metadata": {},
   "outputs": [
    {
     "data": {
      "text/plain": [
       "False"
      ]
     },
     "execution_count": 7,
     "metadata": {},
     "output_type": "execute_result"
    }
   ],
   "source": [
    "is_vowel('b')"
   ]
  },
  {
   "cell_type": "markdown",
   "id": "d48c3cb0",
   "metadata": {},
   "source": [
    "Write a function named is_valid_username that accepts a string as input. A valid username starts with a lowercase letter, and only consists of lowercase letters, numbers, or the _ character. It should also be no longer than 32 characters. The function should return either True or False depending on whether the passed string is a valid username."
   ]
  },
  {
   "cell_type": "code",
   "execution_count": 97,
   "id": "597265e2",
   "metadata": {},
   "outputs": [],
   "source": [
    "def is_valid_username(s):\n",
    "    if re.search(r'^[a-z][a-z0-9_]{0,31}',s) == None:\n",
    "        return False\n",
    "    else:\n",
    "        start, end = re.search(r'^[a-z][a-z0-9_]{0,31}',s).span()\n",
    "\n",
    "        if start ==0 and end == len(s):\n",
    "            return True\n",
    "        else:\n",
    "            return False"
   ]
  },
  {
   "cell_type": "code",
   "execution_count": 100,
   "id": "4b5f7e23",
   "metadata": {},
   "outputs": [
    {
     "data": {
      "text/plain": [
       "False"
      ]
     },
     "execution_count": 100,
     "metadata": {},
     "output_type": "execute_result"
    }
   ],
   "source": [
    "is_valid_username('aaaaaaaaaaaaaaaaaaaaaaaaaaaaaaaaa')"
   ]
  },
  {
   "cell_type": "code",
   "execution_count": 101,
   "id": "75a2caea",
   "metadata": {},
   "outputs": [
    {
     "data": {
      "text/plain": [
       "False"
      ]
     },
     "execution_count": 101,
     "metadata": {},
     "output_type": "execute_result"
    }
   ],
   "source": [
    "is_valid_username('1codeup')"
   ]
  },
  {
   "cell_type": "code",
   "execution_count": 102,
   "id": "09142692",
   "metadata": {},
   "outputs": [
    {
     "data": {
      "text/plain": [
       "True"
      ]
     },
     "execution_count": 102,
     "metadata": {},
     "output_type": "execute_result"
    }
   ],
   "source": [
    "is_valid_username('codeup123')"
   ]
  },
  {
   "cell_type": "markdown",
   "id": "07192efb",
   "metadata": {},
   "source": [
    "Write a regular expression to capture phone numbers. It should match all of the following:  \n",
    "(210) 867 5309  \n",
    "+1 210.867.5309  \n",
    "867-5309  \n",
    "210-867-5309  \n"
   ]
  },
  {
   "cell_type": "code",
   "execution_count": 109,
   "id": "b123b54f",
   "metadata": {},
   "outputs": [],
   "source": [
    "pattern = r'\\D?\\d?\\D?\\d{0,3}\\D*\\d{3}\\D\\d{4}'"
   ]
  },
  {
   "cell_type": "code",
   "execution_count": 111,
   "id": "fb143ba7",
   "metadata": {},
   "outputs": [
    {
     "data": {
      "text/plain": [
       "<re.Match object; span=(0, 15), match='+1 210.867.5309'>"
      ]
     },
     "execution_count": 111,
     "metadata": {},
     "output_type": "execute_result"
    }
   ],
   "source": [
    "re.search(pattern,'+1 210.867.5309')"
   ]
  },
  {
   "cell_type": "markdown",
   "id": "f8d29616",
   "metadata": {},
   "source": [
    "Use regular expressions to convert the dates below to the standardized year-month-day format.   \n",
    "YYYY-MM-DD  \n",
    "02/04/19  \n",
    "02/05/19  \n",
    "02/06/19  \n",
    "02/07/19  \n",
    "02/08/19  \n",
    "02/09/19  \n",
    "02/10/19  "
   ]
  },
  {
   "cell_type": "code",
   "execution_count": 116,
   "id": "b13bd77b",
   "metadata": {},
   "outputs": [],
   "source": [
    "match = re.search(r'(\\d{2})/(\\d{2})/(\\d{2})','02/04/19')"
   ]
  },
  {
   "cell_type": "code",
   "execution_count": 120,
   "id": "225028e7",
   "metadata": {},
   "outputs": [
    {
     "data": {
      "text/plain": [
       "('02/04/19', '02', '04', '19')"
      ]
     },
     "execution_count": 120,
     "metadata": {},
     "output_type": "execute_result"
    }
   ],
   "source": [
    "match[0],match[1],match[2],match[3]"
   ]
  },
  {
   "cell_type": "code",
   "execution_count": 126,
   "id": "21d9cc1f",
   "metadata": {},
   "outputs": [
    {
     "data": {
      "text/plain": [
       "'2019/02/04'"
      ]
     },
     "execution_count": 126,
     "metadata": {},
     "output_type": "execute_result"
    }
   ],
   "source": [
    "a,b,c = re.search(r'(\\d{2})/(\\d{2})/(\\d{2})','02/04/19').groups()\n",
    "'20'+c+'/'+a+'/'+b"
   ]
  },
  {
   "cell_type": "code",
   "execution_count": 128,
   "id": "3da37e6b",
   "metadata": {},
   "outputs": [],
   "source": [
    "def fix_dates(s):\n",
    "    a,b,c = re.search(r'(\\d{2})/(\\d{2})/(\\d{2})',s).groups()\n",
    "    return '20'+c+'/'+a+'/'+b"
   ]
  },
  {
   "cell_type": "code",
   "execution_count": 131,
   "id": "2a749d98",
   "metadata": {},
   "outputs": [
    {
     "data": {
      "text/plain": [
       "['2019/02/04',\n",
       " '2019/02/05',\n",
       " '2019/02/06',\n",
       " '2019/02/07',\n",
       " '2019/02/08',\n",
       " '2019/02/09',\n",
       " '2019/02/10']"
      ]
     },
     "execution_count": 131,
     "metadata": {},
     "output_type": "execute_result"
    }
   ],
   "source": [
    "dates = ['02/04/19','02/05/19','02/06/19','02/07/19','02/08/19','02/09/19','02/10/19' ]\n",
    "new_dates = [] \n",
    "for d in dates:\n",
    "    new_dates.append(fix_dates(d))\n",
    "new_dates"
   ]
  },
  {
   "cell_type": "code",
   "execution_count": null,
   "id": "a5a37a85",
   "metadata": {},
   "outputs": [],
   "source": []
  }
 ],
 "metadata": {
  "kernelspec": {
   "display_name": "Python 3 (ipykernel)",
   "language": "python",
   "name": "python3"
  },
  "language_info": {
   "codemirror_mode": {
    "name": "ipython",
    "version": 3
   },
   "file_extension": ".py",
   "mimetype": "text/x-python",
   "name": "python",
   "nbconvert_exporter": "python",
   "pygments_lexer": "ipython3",
   "version": "3.9.7"
  }
 },
 "nbformat": 4,
 "nbformat_minor": 5
}
