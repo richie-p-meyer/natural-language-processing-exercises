{
 "cells": [
  {
   "cell_type": "code",
   "execution_count": 1,
   "id": "62d97543",
   "metadata": {},
   "outputs": [],
   "source": [
    "import pandas as pd\n",
    "import numpy as np\n",
    "\n",
    "import unicodedata\n",
    "import re\n",
    "import os\n",
    "import json\n",
    "\n",
    "import nltk\n",
    "from nltk.tokenize.toktok import ToktokTokenizer\n",
    "from nltk.corpus import stopwords\n",
    "\n",
    "\n",
    "import acquire"
   ]
  },
  {
   "cell_type": "markdown",
   "id": "f60b3f2e",
   "metadata": {},
   "source": [
    "Define a function named basic_clean. It should take in a string and apply some basic text cleaning to it:  \n",
    "  \n",
    "Lowercase everything  \n",
    "Normalize unicode characters  \n",
    "Replace anything that is not a letter, number, whitespace or a single quote.  "
   ]
  },
  {
   "cell_type": "code",
   "execution_count": 2,
   "id": "5a02ea01",
   "metadata": {},
   "outputs": [],
   "source": [
    "def basic_clean(string):\n",
    "    string = string.lower()\n",
    "    string = unicodedata.normalize('NFKD', string).encode('ascii', 'ignore').decode('utf-8', 'ignore')\n",
    "    string = re.sub(\"[^A-Za-z0-9\\s']\",'',string)\n",
    "    return string"
   ]
  },
  {
   "cell_type": "code",
   "execution_count": 3,
   "id": "018177b4",
   "metadata": {},
   "outputs": [],
   "source": [
    "phrase = 'i have having had so much swim swam swimming swum'"
   ]
  },
  {
   "cell_type": "code",
   "execution_count": 4,
   "id": "27f04646",
   "metadata": {},
   "outputs": [
    {
     "data": {
      "text/plain": [
       "'i have having had so much swim swam swimming swum'"
      ]
     },
     "execution_count": 4,
     "metadata": {},
     "output_type": "execute_result"
    }
   ],
   "source": [
    "basic_clean(phrase)"
   ]
  },
  {
   "cell_type": "markdown",
   "id": "398b7304",
   "metadata": {},
   "source": [
    "Define a function named tokenize. It should take in a string and tokenize all the words in the string."
   ]
  },
  {
   "cell_type": "code",
   "execution_count": 5,
   "id": "1c3e018f",
   "metadata": {},
   "outputs": [],
   "source": [
    "def tokenize(string):\n",
    "    tokenizer = nltk.tokenize.ToktokTokenizer()\n",
    "    return tokenizer.tokenize(string,return_str=True)\n",
    "    "
   ]
  },
  {
   "cell_type": "code",
   "execution_count": 6,
   "id": "dfc68bf0",
   "metadata": {},
   "outputs": [
    {
     "data": {
      "text/plain": [
       "'i have having had so much swim swam swimming swum'"
      ]
     },
     "execution_count": 6,
     "metadata": {},
     "output_type": "execute_result"
    }
   ],
   "source": [
    "tokenize(phrase)"
   ]
  },
  {
   "cell_type": "markdown",
   "id": "fbcc6e30",
   "metadata": {},
   "source": [
    "Define a function named stem. It should accept some text and return the text after applying stemming to all the words."
   ]
  },
  {
   "cell_type": "code",
   "execution_count": 62,
   "id": "17d2efce",
   "metadata": {},
   "outputs": [],
   "source": [
    "def stem(string):\n",
    "    ps = nltk.porter.PorterStemmer()\n",
    "    stems = [ps.stem(w) for w in string.split()]\n",
    "    return ' '.join(stems)"
   ]
  },
  {
   "cell_type": "code",
   "execution_count": 49,
   "id": "a42c7711",
   "metadata": {},
   "outputs": [
    {
     "data": {
      "text/plain": [
       "'i have have had so much swim swam swim swum'"
      ]
     },
     "execution_count": 49,
     "metadata": {},
     "output_type": "execute_result"
    }
   ],
   "source": [
    "stem(phrase)"
   ]
  },
  {
   "cell_type": "markdown",
   "id": "494472ea",
   "metadata": {},
   "source": [
    "Define a function named lemmatize. It should accept some text and return the text after applying lemmatization to each word."
   ]
  },
  {
   "cell_type": "code",
   "execution_count": 50,
   "id": "a1dc2485",
   "metadata": {},
   "outputs": [],
   "source": [
    "def lemmatize(string):\n",
    "    wnl = nltk.stem.WordNetLemmatizer()\n",
    "    lems = [wnl.lemmatize(w) for w in string.split()]\n",
    "    return ' '.join(lems)"
   ]
  },
  {
   "cell_type": "code",
   "execution_count": 51,
   "id": "97cdfd42",
   "metadata": {},
   "outputs": [
    {
     "data": {
      "text/plain": [
       "'i have having had so much swim swam swimming swum'"
      ]
     },
     "execution_count": 51,
     "metadata": {},
     "output_type": "execute_result"
    }
   ],
   "source": [
    "lemmatize(phrase)"
   ]
  },
  {
   "cell_type": "markdown",
   "id": "23c7693c",
   "metadata": {},
   "source": [
    "Define a function named remove_stopwords. It should accept some text and return the text after removing all the stopwords.\n",
    "\n",
    "This function should define two optional parameters, extra_words and exclude_words. These parameters should define any additional stop words to include, and any words that we don't want to remove."
   ]
  },
  {
   "cell_type": "code",
   "execution_count": 27,
   "id": "9e68e01d",
   "metadata": {},
   "outputs": [],
   "source": [
    "def remove_stopwords(string,extra_words=None,exclude_words=None):\n",
    "    stopword_list = stopwords.words('english')\n",
    "    if extra_words != None:\n",
    "        stopword_list.remove(extra_words)\n",
    "    if exclude_words != None:  \n",
    "        stopword_list.append(exclude_words)\n",
    "    words = string.split()\n",
    "    return [w for w in words if w not in stopword_list]\n"
   ]
  },
  {
   "cell_type": "code",
   "execution_count": 28,
   "id": "78fa374c",
   "metadata": {},
   "outputs": [
    {
     "data": {
      "text/plain": [
       "['much', 'swim', 'swam', 'swimming', 'swum']"
      ]
     },
     "execution_count": 28,
     "metadata": {},
     "output_type": "execute_result"
    }
   ],
   "source": [
    "remove_stopwords(phrase)"
   ]
  },
  {
   "cell_type": "markdown",
   "id": "ad5d0486",
   "metadata": {},
   "source": [
    "Use your data from the acquire to produce a dataframe of the news articles. Name the dataframe news_df."
   ]
  },
  {
   "cell_type": "code",
   "execution_count": 39,
   "id": "9247fc3c",
   "metadata": {},
   "outputs": [],
   "source": [
    "news_df = pd.DataFrame(acquire.scrape_one_page('sports'))"
   ]
  },
  {
   "cell_type": "code",
   "execution_count": 40,
   "id": "2e24bfcd",
   "metadata": {},
   "outputs": [
    {
     "data": {
      "text/html": [
       "<div>\n",
       "<style scoped>\n",
       "    .dataframe tbody tr th:only-of-type {\n",
       "        vertical-align: middle;\n",
       "    }\n",
       "\n",
       "    .dataframe tbody tr th {\n",
       "        vertical-align: top;\n",
       "    }\n",
       "\n",
       "    .dataframe thead th {\n",
       "        text-align: right;\n",
       "    }\n",
       "</style>\n",
       "<table border=\"1\" class=\"dataframe\">\n",
       "  <thead>\n",
       "    <tr style=\"text-align: right;\">\n",
       "      <th></th>\n",
       "      <th>category</th>\n",
       "      <th>title</th>\n",
       "      <th>content</th>\n",
       "    </tr>\n",
       "  </thead>\n",
       "  <tbody>\n",
       "    <tr>\n",
       "      <th>0</th>\n",
       "      <td>sports</td>\n",
       "      <td>India's Ravichandran Ashwin becomes world numb...</td>\n",
       "      <td>Team India all-rounder Ravichandran Ashwin has...</td>\n",
       "    </tr>\n",
       "    <tr>\n",
       "      <th>1</th>\n",
       "      <td>sports</td>\n",
       "      <td>Umesh Yadav equals Kohli's tally of sixes in T...</td>\n",
       "      <td>Team India fast bowler Umesh Yadav on Wednesda...</td>\n",
       "    </tr>\n",
       "    <tr>\n",
       "      <th>2</th>\n",
       "      <td>sports</td>\n",
       "      <td>I just didn't agree with a lot of his opinions...</td>\n",
       "      <td>Ex-Australia batter Mark Waugh, who commentate...</td>\n",
       "    </tr>\n",
       "    <tr>\n",
       "      <th>3</th>\n",
       "      <td>sports</td>\n",
       "      <td>France's Just Fontaine, who scored most goals ...</td>\n",
       "      <td>French forward Just Fontaine, who scored most ...</td>\n",
       "    </tr>\n",
       "    <tr>\n",
       "      <th>4</th>\n",
       "      <td>sports</td>\n",
       "      <td>Women to get free entry to matches in inaugura...</td>\n",
       "      <td>Women and girls will be getting free entry to ...</td>\n",
       "    </tr>\n",
       "  </tbody>\n",
       "</table>\n",
       "</div>"
      ],
      "text/plain": [
       "  category                                              title  \\\n",
       "0   sports  India's Ravichandran Ashwin becomes world numb...   \n",
       "1   sports  Umesh Yadav equals Kohli's tally of sixes in T...   \n",
       "2   sports  I just didn't agree with a lot of his opinions...   \n",
       "3   sports  France's Just Fontaine, who scored most goals ...   \n",
       "4   sports  Women to get free entry to matches in inaugura...   \n",
       "\n",
       "                                             content  \n",
       "0  Team India all-rounder Ravichandran Ashwin has...  \n",
       "1  Team India fast bowler Umesh Yadav on Wednesda...  \n",
       "2  Ex-Australia batter Mark Waugh, who commentate...  \n",
       "3  French forward Just Fontaine, who scored most ...  \n",
       "4  Women and girls will be getting free entry to ...  "
      ]
     },
     "execution_count": 40,
     "metadata": {},
     "output_type": "execute_result"
    }
   ],
   "source": [
    "news_df.head()"
   ]
  },
  {
   "cell_type": "code",
   "execution_count": 70,
   "id": "5f208f80",
   "metadata": {},
   "outputs": [],
   "source": [
    "news_df['clean'] = news_df.content.apply(basic_clean)"
   ]
  },
  {
   "cell_type": "code",
   "execution_count": 72,
   "id": "ba4e691f",
   "metadata": {},
   "outputs": [],
   "source": [
    "news_df['stemmed'] = news_df.content.apply(stem)"
   ]
  },
  {
   "cell_type": "code",
   "execution_count": 73,
   "id": "d77e6efa",
   "metadata": {},
   "outputs": [],
   "source": [
    "news_df['lemmatized'] = news_df.content.apply(lemmatize)"
   ]
  },
  {
   "cell_type": "code",
   "execution_count": 74,
   "id": "5479489d",
   "metadata": {},
   "outputs": [
    {
     "data": {
      "text/html": [
       "<div>\n",
       "<style scoped>\n",
       "    .dataframe tbody tr th:only-of-type {\n",
       "        vertical-align: middle;\n",
       "    }\n",
       "\n",
       "    .dataframe tbody tr th {\n",
       "        vertical-align: top;\n",
       "    }\n",
       "\n",
       "    .dataframe thead th {\n",
       "        text-align: right;\n",
       "    }\n",
       "</style>\n",
       "<table border=\"1\" class=\"dataframe\">\n",
       "  <thead>\n",
       "    <tr style=\"text-align: right;\">\n",
       "      <th></th>\n",
       "      <th>category</th>\n",
       "      <th>title</th>\n",
       "      <th>content</th>\n",
       "      <th>clean</th>\n",
       "      <th>stemmed</th>\n",
       "      <th>lemmatized</th>\n",
       "    </tr>\n",
       "  </thead>\n",
       "  <tbody>\n",
       "    <tr>\n",
       "      <th>0</th>\n",
       "      <td>sports</td>\n",
       "      <td>India's Ravichandran Ashwin becomes world numb...</td>\n",
       "      <td>Team India all-rounder Ravichandran Ashwin has...</td>\n",
       "      <td>team india allrounder ravichandran ashwin has ...</td>\n",
       "      <td>team india all-round ravichandran ashwin ha be...</td>\n",
       "      <td>Team India all-rounder Ravichandran Ashwin ha ...</td>\n",
       "    </tr>\n",
       "    <tr>\n",
       "      <th>1</th>\n",
       "      <td>sports</td>\n",
       "      <td>Umesh Yadav equals Kohli's tally of sixes in T...</td>\n",
       "      <td>Team India fast bowler Umesh Yadav on Wednesda...</td>\n",
       "      <td>team india fast bowler umesh yadav on wednesda...</td>\n",
       "      <td>team india fast bowler umesh yadav on wednesda...</td>\n",
       "      <td>Team India fast bowler Umesh Yadav on Wednesda...</td>\n",
       "    </tr>\n",
       "    <tr>\n",
       "      <th>2</th>\n",
       "      <td>sports</td>\n",
       "      <td>I just didn't agree with a lot of his opinions...</td>\n",
       "      <td>Ex-Australia batter Mark Waugh, who commentate...</td>\n",
       "      <td>exaustralia batter mark waugh who commentated ...</td>\n",
       "      <td>ex-australia batter mark waugh, who comment in...</td>\n",
       "      <td>Ex-Australia batter Mark Waugh, who commentate...</td>\n",
       "    </tr>\n",
       "    <tr>\n",
       "      <th>3</th>\n",
       "      <td>sports</td>\n",
       "      <td>France's Just Fontaine, who scored most goals ...</td>\n",
       "      <td>French forward Just Fontaine, who scored most ...</td>\n",
       "      <td>french forward just fontaine who scored most g...</td>\n",
       "      <td>french forward just fontaine, who score most g...</td>\n",
       "      <td>French forward Just Fontaine, who scored most ...</td>\n",
       "    </tr>\n",
       "    <tr>\n",
       "      <th>4</th>\n",
       "      <td>sports</td>\n",
       "      <td>Women to get free entry to matches in inaugura...</td>\n",
       "      <td>Women and girls will be getting free entry to ...</td>\n",
       "      <td>women and girls will be getting free entry to ...</td>\n",
       "      <td>women and girl will be get free entri to match...</td>\n",
       "      <td>Women and girl will be getting free entry to m...</td>\n",
       "    </tr>\n",
       "  </tbody>\n",
       "</table>\n",
       "</div>"
      ],
      "text/plain": [
       "  category                                              title  \\\n",
       "0   sports  India's Ravichandran Ashwin becomes world numb...   \n",
       "1   sports  Umesh Yadav equals Kohli's tally of sixes in T...   \n",
       "2   sports  I just didn't agree with a lot of his opinions...   \n",
       "3   sports  France's Just Fontaine, who scored most goals ...   \n",
       "4   sports  Women to get free entry to matches in inaugura...   \n",
       "\n",
       "                                             content  \\\n",
       "0  Team India all-rounder Ravichandran Ashwin has...   \n",
       "1  Team India fast bowler Umesh Yadav on Wednesda...   \n",
       "2  Ex-Australia batter Mark Waugh, who commentate...   \n",
       "3  French forward Just Fontaine, who scored most ...   \n",
       "4  Women and girls will be getting free entry to ...   \n",
       "\n",
       "                                               clean  \\\n",
       "0  team india allrounder ravichandran ashwin has ...   \n",
       "1  team india fast bowler umesh yadav on wednesda...   \n",
       "2  exaustralia batter mark waugh who commentated ...   \n",
       "3  french forward just fontaine who scored most g...   \n",
       "4  women and girls will be getting free entry to ...   \n",
       "\n",
       "                                             stemmed  \\\n",
       "0  team india all-round ravichandran ashwin ha be...   \n",
       "1  team india fast bowler umesh yadav on wednesda...   \n",
       "2  ex-australia batter mark waugh, who comment in...   \n",
       "3  french forward just fontaine, who score most g...   \n",
       "4  women and girl will be get free entri to match...   \n",
       "\n",
       "                                          lemmatized  \n",
       "0  Team India all-rounder Ravichandran Ashwin ha ...  \n",
       "1  Team India fast bowler Umesh Yadav on Wednesda...  \n",
       "2  Ex-Australia batter Mark Waugh, who commentate...  \n",
       "3  French forward Just Fontaine, who scored most ...  \n",
       "4  Women and girl will be getting free entry to m...  "
      ]
     },
     "execution_count": 74,
     "metadata": {},
     "output_type": "execute_result"
    }
   ],
   "source": [
    "news_df.head()"
   ]
  },
  {
   "cell_type": "code",
   "execution_count": null,
   "id": "96315ec5",
   "metadata": {},
   "outputs": [],
   "source": []
  }
 ],
 "metadata": {
  "kernelspec": {
   "display_name": "Python 3 (ipykernel)",
   "language": "python",
   "name": "python3"
  },
  "language_info": {
   "codemirror_mode": {
    "name": "ipython",
    "version": 3
   },
   "file_extension": ".py",
   "mimetype": "text/x-python",
   "name": "python",
   "nbconvert_exporter": "python",
   "pygments_lexer": "ipython3",
   "version": "3.9.7"
  }
 },
 "nbformat": 4,
 "nbformat_minor": 5
}
